{
 "cells": [
  {
   "cell_type": "markdown",
   "metadata": {},
   "source": [
    "# Project 1 \n",
    "## Web Scraping\n",
    "### Getting information about laptops using staples.ca web page\n",
    "#### Luis Dorantes"
   ]
  },
  {
   "cell_type": "code",
   "execution_count": 1,
   "metadata": {},
   "outputs": [],
   "source": [
    "#import all libraries and pacjages needed\n",
    "from selenium import webdriver\n",
    "from selenium.webdriver.support.ui import Select\n",
    "from selenium.webdriver.common.by import By\n",
    "from selenium.webdriver.support.ui import WebDriverWait\n",
    "from selenium.webdriver.support import expected_conditions as EC\n",
    "import numpy as np\n",
    "import pandas as pd\n"
   ]
  },
  {
   "cell_type": "code",
   "execution_count": 2,
   "metadata": {},
   "outputs": [],
   "source": [
    "#Function that return array with laptop attributes\n",
    "def get_laptop_attributes(url):\n",
    "    '''return a list with laptops details such as processor, ram, os, screen size for url given...'''\n",
    "    #Open a new Chrome page \n",
    "    driver = webdriver.Chrome('chromedriver.exe')\n",
    "    driver.get(url)\n",
    "    #Wait and close newsletter pop up\n",
    "    try:\n",
    "        element = WebDriverWait(driver, 5).until(EC.presence_of_element_located((By.XPATH, '//*[@id=\"bold-welcome-modal\"]/div/div/header/div/span[2]')))\n",
    "        element.click()\n",
    "    except:\n",
    "        pass\n",
    "    #Add name and price of laptop\n",
    "    laptop = []\n",
    "    laptop.append(driver.find_element(By.XPATH,'//*[@id=\"breadcrumbs_pdp\"]/ol/li[5]/span[2]/span').text.split(',')[0])\n",
    "    laptop.append(driver.find_element(By.CLASS_NAME,'product-form').text.split('\\n')[0])\n",
    "            \n",
    "    #Add extra detals for comparison\n",
    "    details = [row.text for row in driver.find_elements(By.XPATH,'//*[@id=\"product_description\"]/div/ul')][0].split('\\n')\n",
    "    \n",
    "    #Append detals to laptop list\n",
    "    for i in range(len(details)):\n",
    "        laptop.append(details[i])\n",
    "    #close driver\n",
    "    driver.close()\n",
    "    #Return list with laptop details    \n",
    "    return laptop"
   ]
  },
  {
   "cell_type": "code",
   "execution_count": 3,
   "metadata": {},
   "outputs": [],
   "source": [
    "#Function to get number of pages \n",
    "def number_of_pages():\n",
    "    '''return number of pages of laptop catalog'''\n",
    "    #To run this function driver must be started first\n",
    "    driver.get('https://www.staples.ca/collections/gaming-laptops-94')\n",
    "    #Wait and close newsletter pop up\n",
    "    try:\n",
    "        element = WebDriverWait(driver, 5).until(EC.presence_of_element_located((By.XPATH, '//*[@id=\"bold-welcome-modal\"]/div/div/header/div/span[2]')))\n",
    "        element.click()\n",
    "    except:\n",
    "        pass\n",
    "    num_pages = driver.find_elements(By.CLASS_NAME,'ais-Pagination-link')\n",
    "    page_list = [number.get_attribute('href') for number in num_pages]\n",
    "    last_page = int(page_list[-1].split('&')[0].split('page=')[1])\n",
    "    \n",
    "    return last_page"
   ]
  },
  {
   "cell_type": "code",
   "execution_count": 4,
   "metadata": {},
   "outputs": [],
   "source": [
    "#Function that move to new page and get all laptops url \n",
    "def move_next_page(page):\n",
    "    '''move existing Chrome page to next browser page'''\n",
    "    #page_ = page \n",
    "    driver.get(f'https://www.staples.ca/collections/gaming-laptops-94?page={page}')\n",
    "    #Wait and close newsletter pop up\n",
    "    try:\n",
    "        element = WebDriverWait(driver, 5).until(EC.presence_of_element_located((By.XPATH, '//*[@id=\"bold-welcome-modal\"]/div/div/header/div/span[2]')))\n",
    "        element.click()\n",
    "    except:\n",
    "        pass\n",
    "    #get all url for laptop and return the list\n",
    "    urls = driver.find_elements(By.CLASS_NAME,'product-thumbnail')\n",
    "    urls_list = [url.find_element(By.TAG_NAME,'a').get_attribute('href') for url in urls]\n",
    "    \n",
    "    return urls_list\n",
    "\n",
    "    "
   ]
  },
  {
   "cell_type": "markdown",
   "metadata": {},
   "source": [
    "# __Main__ of script"
   ]
  },
  {
   "cell_type": "code",
   "execution_count": 6,
   "metadata": {
    "scrolled": true
   },
   "outputs": [],
   "source": [
    "#Start driver\n",
    "driver = webdriver.Chrome('chromedriver.exe')\n",
    "#Return number of pages and enter to staples laptop sale web page\n",
    "pages = number_of_pages()\n",
    "\n",
    "#Running thru. all pages, getting url for each laptop and bring back datasheet for each \n",
    "data_information = []\n",
    "for page in range(pages):\n",
    "    laptop_urls = move_next_page(page + 1)\n",
    "    for url in laptop_urls:\n",
    "        data_information.append(get_laptop_attributes(url))\n",
    "        print(f'Page {page}: Datasheet has been Obtained')\n",
    "        \n",
    "    \n",
    "    "
   ]
  },
  {
   "cell_type": "code",
   "execution_count": 11,
   "metadata": {},
   "outputs": [
    {
     "name": "stderr",
     "output_type": "stream",
     "text": [
      "<ipython-input-11-7c4a33899bbf>:2: DeprecationWarning: executable_path has been deprecated, please pass in a Service object\n",
      "  driver = webdriver.Chrome('chromedriver.exe')\n",
      "<ipython-input-2-b3d2e54b04d0>:5: DeprecationWarning: executable_path has been deprecated, please pass in a Service object\n",
      "  driver = webdriver.Chrome('chromedriver.exe')\n"
     ]
    },
    {
     "name": "stdout",
     "output_type": "stream",
     "text": [
      "Page 2: Datasheet has been Obtained\n",
      "Page 2: Datasheet has been Obtained\n",
      "Page 2: Datasheet has been Obtained\n",
      "Page 2: Datasheet has been Obtained\n",
      "Page 2: Datasheet has been Obtained\n",
      "Page 2: Datasheet has been Obtained\n",
      "Page 2: Datasheet has been Obtained\n",
      "Page 2: Datasheet has been Obtained\n",
      "Page 2: Datasheet has been Obtained\n",
      "Page 2: Datasheet has been Obtained\n",
      "Page 2: Datasheet has been Obtained\n",
      "Page 2: Datasheet has been Obtained\n"
     ]
    }
   ],
   "source": [
    "# #Check of a given page\n",
    "driver = webdriver.Chrome('chromedriver.exe')\n",
    "data_information = []\n",
    "page = 2\n",
    "laptop_urls = move_next_page(page)\n",
    "for url in laptop_urls:\n",
    "    data_information.append(get_laptop_attributes(url))\n",
    "    print(f'Page {page}: Datasheet has been Obtained')"
   ]
  },
  {
   "cell_type": "code",
   "execution_count": 103,
   "metadata": {
    "scrolled": true
   },
   "outputs": [],
   "source": [
    "#data_information"
   ]
  },
  {
   "cell_type": "code",
   "execution_count": 104,
   "metadata": {},
   "outputs": [],
   "source": [
    "#len(data_information)"
   ]
  },
  {
   "cell_type": "code",
   "execution_count": 12,
   "metadata": {
    "scrolled": false
   },
   "outputs": [
    {
     "name": "stdout",
     "output_type": "stream",
     "text": [
      "0 13\n",
      "1 13\n",
      "2 13\n",
      "3 13\n",
      "4 13\n",
      "5 17\n",
      "6 15\n",
      "7 13\n",
      "8 13\n",
      "9 13\n",
      "10 18\n",
      "11 18\n"
     ]
    }
   ],
   "source": [
    "#Check numebr of atributes for each laptop paage\n",
    "for i in range(len(data_information)):\n",
    "    print(i,len(data_information[i]))"
   ]
  },
  {
   "cell_type": "code",
   "execution_count": 13,
   "metadata": {},
   "outputs": [],
   "source": [
    "#df = pd.DataFrame(data_information, columns = ['name','price','screen','CPU','RAM','HDD/SDD','os_version','GPU','connectivity','ports','battery','dimensions','warranty'])\n",
    "df = pd.DataFrame(data_information)"
   ]
  },
  {
   "cell_type": "code",
   "execution_count": 14,
   "metadata": {},
   "outputs": [],
   "source": [
    "#Create a csv using pandas\n",
    "df.to_csv('gaming2.csv',index = False)"
   ]
  },
  {
   "cell_type": "markdown",
   "metadata": {},
   "source": [
    "# Data Analysis"
   ]
  },
  {
   "cell_type": "code",
   "execution_count": 3,
   "metadata": {},
   "outputs": [],
   "source": [
    "import numpy as np\n",
    "import pandas as pd"
   ]
  },
  {
   "cell_type": "code",
   "execution_count": 14,
   "metadata": {
    "scrolled": false
   },
   "outputs": [
    {
     "name": "stdout",
     "output_type": "stream",
     "text": [
      "<class 'pandas.core.frame.DataFrame'>\n",
      "RangeIndex: 548 entries, 0 to 547\n",
      "Data columns (total 19 columns):\n",
      " #   Column                     Non-Null Count  Dtype  \n",
      "---  ------                     --------------  -----  \n",
      " 0   description                548 non-null    object \n",
      " 1   brand                      548 non-null    object \n",
      " 2   price                      548 non-null    float64\n",
      " 3   cpu                        548 non-null    object \n",
      " 4   cpu_family                 548 non-null    object \n",
      " 5   ram                        548 non-null    object \n",
      " 6   ram_size                   548 non-null    int64  \n",
      " 7   storage                    543 non-null    object \n",
      " 8   storage_capacity_ssd_only  543 non-null    float64\n",
      " 9   system                     548 non-null    object \n",
      " 10  screen                     546 non-null    object \n",
      " 11  screen_in                  546 non-null    float64\n",
      " 12  GPU                        542 non-null    object \n",
      " 13  connectivity               540 non-null    object \n",
      " 14  ports                      544 non-null    object \n",
      " 15  battery                    535 non-null    object \n",
      " 16  dimensions                 541 non-null    object \n",
      " 17  warranty                   527 non-null    object \n",
      " 18  warranty_years             527 non-null    object \n",
      "dtypes: float64(3), int64(1), object(15)\n",
      "memory usage: 81.5+ KB\n"
     ]
    }
   ],
   "source": [
    "laptops = pd.read_csv('laptops.csv', header = 0)\n",
    "laptops.info()"
   ]
  },
  {
   "cell_type": "code",
   "execution_count": 10,
   "metadata": {},
   "outputs": [
    {
     "data": {
      "text/html": [
       "<div>\n",
       "<style scoped>\n",
       "    .dataframe tbody tr th:only-of-type {\n",
       "        vertical-align: middle;\n",
       "    }\n",
       "\n",
       "    .dataframe tbody tr th {\n",
       "        vertical-align: top;\n",
       "    }\n",
       "\n",
       "    .dataframe thead th {\n",
       "        text-align: right;\n",
       "    }\n",
       "</style>\n",
       "<table border=\"1\" class=\"dataframe\">\n",
       "  <thead>\n",
       "    <tr style=\"text-align: right;\">\n",
       "      <th></th>\n",
       "      <th>description</th>\n",
       "      <th>brand</th>\n",
       "      <th>price</th>\n",
       "      <th>cpu</th>\n",
       "      <th>cpu_family</th>\n",
       "      <th>ram</th>\n",
       "      <th>ram_size</th>\n",
       "      <th>storage</th>\n",
       "      <th>storage_capacity_ssd_only</th>\n",
       "      <th>system</th>\n",
       "      <th>screen</th>\n",
       "      <th>screen_in</th>\n",
       "      <th>GPU</th>\n",
       "      <th>connectivity</th>\n",
       "      <th>ports</th>\n",
       "      <th>battery</th>\n",
       "      <th>dimensions</th>\n",
       "      <th>warranty</th>\n",
       "      <th>warranty_years</th>\n",
       "    </tr>\n",
       "  </thead>\n",
       "  <tbody>\n",
       "    <tr>\n",
       "      <th>0</th>\n",
       "      <td>Dell Latitude 3310 2-in-1 13.3\"Laptop</td>\n",
       "      <td>dell</td>\n",
       "      <td>1489.99</td>\n",
       "      <td>Processor: Intel Core i5 8th Gen i5-8265U 1.60...</td>\n",
       "      <td>intel core i5</td>\n",
       "      <td>Memory: 8GB</td>\n",
       "      <td>8</td>\n",
       "      <td>Hard Drive: 128GB SDD</td>\n",
       "      <td>128.0</td>\n",
       "      <td>windows 10</td>\n",
       "      <td>Screen Type and Size: 13.3 1920 x 1080 LCD</td>\n",
       "      <td>13.3</td>\n",
       "      <td>Graphics Coprocessor: Intel UHD Graphics 620</td>\n",
       "      <td>NaN</td>\n",
       "      <td>Ports: 2 x USB Type-A (USB 3.1 / USB 3.2 Gen 1...</td>\n",
       "      <td>Battery and Life: 4-Cell: 56 Wh Lithium-Ion Po...</td>\n",
       "      <td>NaN</td>\n",
       "      <td>1 Year Limited Manufacturer Warranty</td>\n",
       "      <td>1</td>\n",
       "    </tr>\n",
       "    <tr>\n",
       "      <th>1</th>\n",
       "      <td>Microsoft 12.4\" Multi-Touch Surface Laptop Go</td>\n",
       "      <td>microsoft</td>\n",
       "      <td>979.99</td>\n",
       "      <td>1.0 GHz Intel Core i5 Quad-Core 10th Gen proce...</td>\n",
       "      <td>intel core i5</td>\n",
       "      <td>8GB LPDDR4x</td>\n",
       "      <td>8</td>\n",
       "      <td>256GB SSD storage</td>\n",
       "      <td>512.0</td>\n",
       "      <td>windows 10</td>\n",
       "      <td>12.4\" 1536 x 1024 PixelSense Touchscreen</td>\n",
       "      <td>12.4</td>\n",
       "      <td>Integrated Intel UHD Graphics</td>\n",
       "      <td>NaN</td>\n",
       "      <td>Ports: 3.5mm Headphone Jack, Surface Connect, ...</td>\n",
       "      <td>NaN</td>\n",
       "      <td>Dimensions: 10.95\" x 8.1\" x 0.62\"</td>\n",
       "      <td>1 Year Limited Warranty</td>\n",
       "      <td>1</td>\n",
       "    </tr>\n",
       "    <tr>\n",
       "      <th>2</th>\n",
       "      <td>Microsoft 12.4\" Multi-Touch Surface Laptop Go</td>\n",
       "      <td>microsoft</td>\n",
       "      <td>979.99</td>\n",
       "      <td>1.0 GHz Intel Core i5 Quad-Core 10th Gen proce...</td>\n",
       "      <td>intel core i5</td>\n",
       "      <td>8GB LPDDR4x</td>\n",
       "      <td>8</td>\n",
       "      <td>256GB SSD storage</td>\n",
       "      <td>512.0</td>\n",
       "      <td>windows 10</td>\n",
       "      <td>12.4\" 1536 x 1024 PixelSense Touchscreen</td>\n",
       "      <td>12.4</td>\n",
       "      <td>Integrated Intel UHD Graphics</td>\n",
       "      <td>Wi-Fi 6 (802.11ax), Bluetooth 5.0</td>\n",
       "      <td>Ports: 3.5mm Headphone Jack, Surface Connect, ...</td>\n",
       "      <td>NaN</td>\n",
       "      <td>Dimensions: 10.95\" x 8.1\" x 0.62\"</td>\n",
       "      <td>1 Year Limited Warranty</td>\n",
       "      <td>1</td>\n",
       "    </tr>\n",
       "    <tr>\n",
       "      <th>3</th>\n",
       "      <td>ASUS Zenbook UX582LR-XS94T 15.6\" Laptop</td>\n",
       "      <td>asus</td>\n",
       "      <td>3999.99</td>\n",
       "      <td>2.4 GHz Intel Core i9-10980HK 8-Cores</td>\n",
       "      <td>intel core i9</td>\n",
       "      <td>32GB DDR4</td>\n",
       "      <td>32</td>\n",
       "      <td>1TB PCIe SSD</td>\n",
       "      <td>1024.0</td>\n",
       "      <td>windows 10</td>\n",
       "      <td>15.6\" 4K UHD Touch Screen, 3840 x 2160 Resolution</td>\n",
       "      <td>15.6</td>\n",
       "      <td>NVIDIA GeForce RTX 3070 8GB GDDR6</td>\n",
       "      <td>Wi-Fi 6(802.11ax), Bluetooth 5.0 (Dual band) 2...</td>\n",
       "      <td>NaN</td>\n",
       "      <td>NaN</td>\n",
       "      <td>NaN</td>\n",
       "      <td>NaN</td>\n",
       "      <td>NaN</td>\n",
       "    </tr>\n",
       "    <tr>\n",
       "      <th>4</th>\n",
       "      <td>Lenovo ThinkStation P340 Tiny</td>\n",
       "      <td>lenovo</td>\n",
       "      <td>2209.99</td>\n",
       "      <td>Intel Core i7-10700T processor</td>\n",
       "      <td>intel core i7</td>\n",
       "      <td>16GB SO-DIMM DDR4-2933 Non-ECC memory</td>\n",
       "      <td>16</td>\n",
       "      <td>512GB SSD M.2 2280 PCIe NVMe Opal storage</td>\n",
       "      <td>512.0</td>\n",
       "      <td>windows 10</td>\n",
       "      <td>NaN</td>\n",
       "      <td>NaN</td>\n",
       "      <td>Intel UHD Graphics 630, NVIDIA Quadro P1000 4GB</td>\n",
       "      <td>Connectivity: Intel AX201 11ax, 2x2 + Bluetoot...</td>\n",
       "      <td>Ports: Headphone / microphone combo jack (3.5m...</td>\n",
       "      <td>NaN</td>\n",
       "      <td>Dimensions: 1.5\"H x 7.2\"W x 7\"D, 3lbs</td>\n",
       "      <td>3 Year Limited Manufacturer Warranty</td>\n",
       "      <td>3</td>\n",
       "    </tr>\n",
       "  </tbody>\n",
       "</table>\n",
       "</div>"
      ],
      "text/plain": [
       "                                     description      brand    price  \\\n",
       "0          Dell Latitude 3310 2-in-1 13.3\"Laptop       dell  1489.99   \n",
       "1  Microsoft 12.4\" Multi-Touch Surface Laptop Go  microsoft   979.99   \n",
       "2  Microsoft 12.4\" Multi-Touch Surface Laptop Go  microsoft   979.99   \n",
       "3        ASUS Zenbook UX582LR-XS94T 15.6\" Laptop       asus  3999.99   \n",
       "4                  Lenovo ThinkStation P340 Tiny     lenovo  2209.99   \n",
       "\n",
       "                                                 cpu     cpu_family  \\\n",
       "0  Processor: Intel Core i5 8th Gen i5-8265U 1.60...  intel core i5   \n",
       "1  1.0 GHz Intel Core i5 Quad-Core 10th Gen proce...  intel core i5   \n",
       "2  1.0 GHz Intel Core i5 Quad-Core 10th Gen proce...  intel core i5   \n",
       "3              2.4 GHz Intel Core i9-10980HK 8-Cores  intel core i9   \n",
       "4                     Intel Core i7-10700T processor  intel core i7   \n",
       "\n",
       "                                     ram  ram_size  \\\n",
       "0                            Memory: 8GB         8   \n",
       "1                            8GB LPDDR4x         8   \n",
       "2                            8GB LPDDR4x         8   \n",
       "3                              32GB DDR4        32   \n",
       "4  16GB SO-DIMM DDR4-2933 Non-ECC memory        16   \n",
       "\n",
       "                                     storage  storage_capacity_ssd_only  \\\n",
       "0                      Hard Drive: 128GB SDD                      128.0   \n",
       "1                          256GB SSD storage                      512.0   \n",
       "2                          256GB SSD storage                      512.0   \n",
       "3                               1TB PCIe SSD                     1024.0   \n",
       "4  512GB SSD M.2 2280 PCIe NVMe Opal storage                      512.0   \n",
       "\n",
       "       system                                             screen  screen_in  \\\n",
       "0  windows 10         Screen Type and Size: 13.3 1920 x 1080 LCD       13.3   \n",
       "1  windows 10           12.4\" 1536 x 1024 PixelSense Touchscreen       12.4   \n",
       "2  windows 10           12.4\" 1536 x 1024 PixelSense Touchscreen       12.4   \n",
       "3  windows 10  15.6\" 4K UHD Touch Screen, 3840 x 2160 Resolution       15.6   \n",
       "4  windows 10                                                NaN        NaN   \n",
       "\n",
       "                                               GPU  \\\n",
       "0     Graphics Coprocessor: Intel UHD Graphics 620   \n",
       "1                    Integrated Intel UHD Graphics   \n",
       "2                    Integrated Intel UHD Graphics   \n",
       "3                NVIDIA GeForce RTX 3070 8GB GDDR6   \n",
       "4  Intel UHD Graphics 630, NVIDIA Quadro P1000 4GB   \n",
       "\n",
       "                                        connectivity  \\\n",
       "0                                                NaN   \n",
       "1                                                NaN   \n",
       "2                  Wi-Fi 6 (802.11ax), Bluetooth 5.0   \n",
       "3  Wi-Fi 6(802.11ax), Bluetooth 5.0 (Dual band) 2...   \n",
       "4  Connectivity: Intel AX201 11ax, 2x2 + Bluetoot...   \n",
       "\n",
       "                                               ports  \\\n",
       "0  Ports: 2 x USB Type-A (USB 3.1 / USB 3.2 Gen 1...   \n",
       "1  Ports: 3.5mm Headphone Jack, Surface Connect, ...   \n",
       "2  Ports: 3.5mm Headphone Jack, Surface Connect, ...   \n",
       "3                                                NaN   \n",
       "4  Ports: Headphone / microphone combo jack (3.5m...   \n",
       "\n",
       "                                             battery  \\\n",
       "0  Battery and Life: 4-Cell: 56 Wh Lithium-Ion Po...   \n",
       "1                                                NaN   \n",
       "2                                                NaN   \n",
       "3                                                NaN   \n",
       "4                                                NaN   \n",
       "\n",
       "                              dimensions  \\\n",
       "0                                    NaN   \n",
       "1      Dimensions: 10.95\" x 8.1\" x 0.62\"   \n",
       "2      Dimensions: 10.95\" x 8.1\" x 0.62\"   \n",
       "3                                    NaN   \n",
       "4  Dimensions: 1.5\"H x 7.2\"W x 7\"D, 3lbs   \n",
       "\n",
       "                               warranty warranty_years  \n",
       "0  1 Year Limited Manufacturer Warranty              1  \n",
       "1               1 Year Limited Warranty              1  \n",
       "2               1 Year Limited Warranty              1  \n",
       "3                                   NaN            NaN  \n",
       "4  3 Year Limited Manufacturer Warranty              3  "
      ]
     },
     "execution_count": 10,
     "metadata": {},
     "output_type": "execute_result"
    }
   ],
   "source": [
    "laptops.head()"
   ]
  },
  {
   "cell_type": "code",
   "execution_count": 7,
   "metadata": {},
   "outputs": [],
   "source": [
    "import matplotlib.pyplot as plt\n",
    "%matplotlib inline"
   ]
  },
  {
   "cell_type": "code",
   "execution_count": 33,
   "metadata": {
    "scrolled": true
   },
   "outputs": [
    {
     "data": {
      "image/png": "[encoded data removed]",
      "text/plain": [
       "<Figure size 432x288 with 1 Axes>"
      ]
     },
     "metadata": {
      "needs_background": "light"
     },
     "output_type": "display_data"
    }
   ],
   "source": [
    "brands = laptops['brand'].value_counts()\n",
    "brands.plot(kind='barh', title='Laptops', color = 'magenta')\n",
    "plt.grid(alpha=0.1)\n",
    "plt.xticks(rotation=0, ha='right')\n",
    "plt.xlabel('Quantity')\n",
    "plt.ylabel('Brands');"
   ]
  },
  {
   "cell_type": "code",
   "execution_count": 31,
   "metadata": {
    "scrolled": true
   },
   "outputs": [
    {
     "data": {
      "text/html": [
       "<div>\n",
       "<style scoped>\n",
       "    .dataframe tbody tr th:only-of-type {\n",
       "        vertical-align: middle;\n",
       "    }\n",
       "\n",
       "    .dataframe tbody tr th {\n",
       "        vertical-align: top;\n",
       "    }\n",
       "\n",
       "    .dataframe thead th {\n",
       "        text-align: right;\n",
       "    }\n",
       "</style>\n",
       "<table border=\"1\" class=\"dataframe\">\n",
       "  <thead>\n",
       "    <tr style=\"text-align: right;\">\n",
       "      <th></th>\n",
       "      <th>brand</th>\n",
       "    </tr>\n",
       "  </thead>\n",
       "  <tbody>\n",
       "    <tr>\n",
       "      <th>lenovo</th>\n",
       "      <td>168</td>\n",
       "    </tr>\n",
       "    <tr>\n",
       "      <th>hp</th>\n",
       "      <td>76</td>\n",
       "    </tr>\n",
       "    <tr>\n",
       "      <th>dell</th>\n",
       "      <td>73</td>\n",
       "    </tr>\n",
       "    <tr>\n",
       "      <th>asus</th>\n",
       "      <td>59</td>\n",
       "    </tr>\n",
       "    <tr>\n",
       "      <th>dynabook</th>\n",
       "      <td>43</td>\n",
       "    </tr>\n",
       "    <tr>\n",
       "      <th>acer</th>\n",
       "      <td>36</td>\n",
       "    </tr>\n",
       "    <tr>\n",
       "      <th>microsoft</th>\n",
       "      <td>33</td>\n",
       "    </tr>\n",
       "    <tr>\n",
       "      <th>msi</th>\n",
       "      <td>32</td>\n",
       "    </tr>\n",
       "    <tr>\n",
       "      <th>samsung</th>\n",
       "      <td>12</td>\n",
       "    </tr>\n",
       "    <tr>\n",
       "      <th>gigabyte</th>\n",
       "      <td>7</td>\n",
       "    </tr>\n",
       "    <tr>\n",
       "      <th>lg</th>\n",
       "      <td>7</td>\n",
       "    </tr>\n",
       "    <tr>\n",
       "      <th>xpg</th>\n",
       "      <td>2</td>\n",
       "    </tr>\n",
       "  </tbody>\n",
       "</table>\n",
       "</div>"
      ],
      "text/plain": [
       "           brand\n",
       "lenovo       168\n",
       "hp            76\n",
       "dell          73\n",
       "asus          59\n",
       "dynabook      43\n",
       "acer          36\n",
       "microsoft     33\n",
       "msi           32\n",
       "samsung       12\n",
       "gigabyte       7\n",
       "lg             7\n",
       "xpg            2"
      ]
     },
     "execution_count": 31,
     "metadata": {},
     "output_type": "execute_result"
    }
   ],
   "source": [
    "brandsdf = pd.DataFrame(brands)\n",
    "brandsdf"
   ]
  },
  {
   "cell_type": "code",
   "execution_count": 48,
   "metadata": {},
   "outputs": [
    {
     "data": {
      "image/png": "[encoded data removed]",
      "text/plain": [
       "<Figure size 432x288 with 1 Axes>"
      ]
     },
     "metadata": {
      "needs_background": "light"
     },
     "output_type": "display_data"
    }
   ],
   "source": [
    "brands = laptops['cpu_family'].value_counts()\n",
    "brands.plot(kind='bar', title='Laptops', color = 'magenta')\n",
    "plt.grid(alpha=0.1)\n",
    "plt.xticks(rotation=90, ha='right')\n",
    "plt.xlabel('CPU')\n",
    "plt.ylabel('Quantity');"
   ]
  },
  {
   "cell_type": "code",
   "execution_count": 42,
   "metadata": {
    "scrolled": true
   },
   "outputs": [
    {
     "data": {
      "text/plain": [
       "Text(0, 0.5, 'Price of laptops')"
      ]
     },
     "execution_count": 42,
     "metadata": {},
     "output_type": "execute_result"
    },
    {
     "data": {
      "image/png": "[encoded data removed]",
      "text/plain": [
       "<Figure size 432x288 with 1 Axes>"
      ]
     },
     "metadata": {
      "needs_background": "light"
     },
     "output_type": "display_data"
    }
   ],
   "source": [
    "red_circle = dict(markerfacecolor='red', marker='o')\n",
    "plt.boxplot(laptops['price'], flierprops=red_circle)\n",
    "plt.title('Laptops Price - CAD -')\n",
    "plt.xticks([1], ['price'])\n",
    "plt.ylabel('Price of laptops')"
   ]
  },
  {
   "cell_type": "code",
   "execution_count": 43,
   "metadata": {},
   "outputs": [],
   "source": [
    "import seaborn as sns"
   ]
  },
  {
   "cell_type": "code",
   "execution_count": 44,
   "metadata": {
    "scrolled": true
   },
   "outputs": [
    {
     "data": {
      "image/png": "[encoded data removed]",
      "text/plain": [
       "<Figure size 432x288 with 1 Axes>"
      ]
     },
     "metadata": {
      "needs_background": "light"
     },
     "output_type": "display_data"
    }
   ],
   "source": [
    "sns.distplot(laptops['price']);"
   ]
  },
  {
   "cell_type": "code",
   "execution_count": 60,
   "metadata": {
    "scrolled": false
   },
   "outputs": [
    {
     "data": {
      "text/plain": [
       "Text(0, 0.5, 'price')"
      ]
     },
     "execution_count": 60,
     "metadata": {},
     "output_type": "execute_result"
    },
    {
     "data": {
      "image/png": "[encoded data removed]",
      "text/plain": [
       "<Figure size 432x288 with 1 Axes>"
      ]
     },
     "metadata": {
      "needs_background": "light"
     },
     "output_type": "display_data"
    }
   ],
   "source": [
    "price = laptops['price']\n",
    "cpu_family = laptops['cpu_family']\n",
    "plt.scatter(cpu_family, price, marker='x', c=['r'], alpha=0.25)\n",
    "plt.title('Price by CPU')\n",
    "plt.xticks(rotation=45, ha='right')\n",
    "plt.ylabel('price')"
   ]
  },
  {
   "cell_type": "code",
   "execution_count": 59,
   "metadata": {
    "scrolled": true
   },
   "outputs": [
    {
     "data": {
      "text/plain": [
       "Text(0, 0.5, 'price')"
      ]
     },
     "execution_count": 59,
     "metadata": {},
     "output_type": "execute_result"
    },
    {
     "data": {
      "image/png": "[encoded data removed]",
      "text/plain": [
       "<Figure size 432x288 with 1 Axes>"
      ]
     },
     "metadata": {
      "needs_background": "light"
     },
     "output_type": "display_data"
    }
   ],
   "source": [
    "brands_ = laptops['brand']\n",
    "plt.scatter(brands_, price, marker='x', c=['r'], alpha=0.25, label='Cats')\n",
    "plt.title('Price by brand')\n",
    "plt.xticks(rotation=45, ha='right')\n",
    "plt.ylabel('price')"
   ]
  },
  {
   "cell_type": "code",
   "execution_count": 72,
   "metadata": {},
   "outputs": [
    {
     "data": {
      "text/html": [
       "<div>\n",
       "<style scoped>\n",
       "    .dataframe tbody tr th:only-of-type {\n",
       "        vertical-align: middle;\n",
       "    }\n",
       "\n",
       "    .dataframe tbody tr th {\n",
       "        vertical-align: top;\n",
       "    }\n",
       "\n",
       "    .dataframe thead th {\n",
       "        text-align: right;\n",
       "    }\n",
       "</style>\n",
       "<table border=\"1\" class=\"dataframe\">\n",
       "  <thead>\n",
       "    <tr style=\"text-align: right;\">\n",
       "      <th></th>\n",
       "      <th>min</th>\n",
       "      <th>median</th>\n",
       "      <th>max</th>\n",
       "      <th>std</th>\n",
       "    </tr>\n",
       "    <tr>\n",
       "      <th>brand</th>\n",
       "      <th></th>\n",
       "      <th></th>\n",
       "      <th></th>\n",
       "      <th></th>\n",
       "    </tr>\n",
       "  </thead>\n",
       "  <tbody>\n",
       "    <tr>\n",
       "      <th>acer</th>\n",
       "      <td>329.99</td>\n",
       "      <td>724.98</td>\n",
       "      <td>3499.99</td>\n",
       "      <td>734.431012</td>\n",
       "    </tr>\n",
       "    <tr>\n",
       "      <th>asus</th>\n",
       "      <td>259.99</td>\n",
       "      <td>1199.99</td>\n",
       "      <td>3999.99</td>\n",
       "      <td>793.178031</td>\n",
       "    </tr>\n",
       "    <tr>\n",
       "      <th>dell</th>\n",
       "      <td>339.99</td>\n",
       "      <td>1869.99</td>\n",
       "      <td>3349.99</td>\n",
       "      <td>647.399357</td>\n",
       "    </tr>\n",
       "    <tr>\n",
       "      <th>dynabook</th>\n",
       "      <td>719.99</td>\n",
       "      <td>1749.99</td>\n",
       "      <td>2479.99</td>\n",
       "      <td>495.150933</td>\n",
       "    </tr>\n",
       "    <tr>\n",
       "      <th>gigabyte</th>\n",
       "      <td>2369.99</td>\n",
       "      <td>3169.99</td>\n",
       "      <td>4519.99</td>\n",
       "      <td>769.043933</td>\n",
       "    </tr>\n",
       "    <tr>\n",
       "      <th>hp</th>\n",
       "      <td>299.97</td>\n",
       "      <td>1224.99</td>\n",
       "      <td>3999.99</td>\n",
       "      <td>1041.802857</td>\n",
       "    </tr>\n",
       "    <tr>\n",
       "      <th>lenovo</th>\n",
       "      <td>249.99</td>\n",
       "      <td>2224.99</td>\n",
       "      <td>4719.99</td>\n",
       "      <td>942.589506</td>\n",
       "    </tr>\n",
       "    <tr>\n",
       "      <th>lg</th>\n",
       "      <td>1199.99</td>\n",
       "      <td>1799.99</td>\n",
       "      <td>1899.99</td>\n",
       "      <td>244.948974</td>\n",
       "    </tr>\n",
       "    <tr>\n",
       "      <th>microsoft</th>\n",
       "      <td>519.99</td>\n",
       "      <td>2049.99</td>\n",
       "      <td>3949.99</td>\n",
       "      <td>1049.777301</td>\n",
       "    </tr>\n",
       "    <tr>\n",
       "      <th>msi</th>\n",
       "      <td>799.00</td>\n",
       "      <td>1949.99</td>\n",
       "      <td>5899.99</td>\n",
       "      <td>1293.682414</td>\n",
       "    </tr>\n",
       "    <tr>\n",
       "      <th>samsung</th>\n",
       "      <td>319.99</td>\n",
       "      <td>1399.99</td>\n",
       "      <td>2099.99</td>\n",
       "      <td>488.327386</td>\n",
       "    </tr>\n",
       "    <tr>\n",
       "      <th>xpg</th>\n",
       "      <td>2199.99</td>\n",
       "      <td>2374.99</td>\n",
       "      <td>2549.99</td>\n",
       "      <td>247.487373</td>\n",
       "    </tr>\n",
       "  </tbody>\n",
       "</table>\n",
       "</div>"
      ],
      "text/plain": [
       "               min   median      max          std\n",
       "brand                                            \n",
       "acer        329.99   724.98  3499.99   734.431012\n",
       "asus        259.99  1199.99  3999.99   793.178031\n",
       "dell        339.99  1869.99  3349.99   647.399357\n",
       "dynabook    719.99  1749.99  2479.99   495.150933\n",
       "gigabyte   2369.99  3169.99  4519.99   769.043933\n",
       "hp          299.97  1224.99  3999.99  1041.802857\n",
       "lenovo      249.99  2224.99  4719.99   942.589506\n",
       "lg         1199.99  1799.99  1899.99   244.948974\n",
       "microsoft   519.99  2049.99  3949.99  1049.777301\n",
       "msi         799.00  1949.99  5899.99  1293.682414\n",
       "samsung     319.99  1399.99  2099.99   488.327386\n",
       "xpg        2199.99  2374.99  2549.99   247.487373"
      ]
     },
     "execution_count": 72,
     "metadata": {},
     "output_type": "execute_result"
    }
   ],
   "source": [
    "laptops_by_brand = pd.DataFrame(laptops.groupby('brand')['price'].aggregate(['min', np.median, max,np.std]))\n",
    "laptops_by_brand"
   ]
  },
  {
   "cell_type": "code",
   "execution_count": 71,
   "metadata": {
    "scrolled": true
   },
   "outputs": [
    {
     "data": {
      "text/html": [
       "<div>\n",
       "<style scoped>\n",
       "    .dataframe tbody tr th:only-of-type {\n",
       "        vertical-align: middle;\n",
       "    }\n",
       "\n",
       "    .dataframe tbody tr th {\n",
       "        vertical-align: top;\n",
       "    }\n",
       "\n",
       "    .dataframe thead th {\n",
       "        text-align: right;\n",
       "    }\n",
       "</style>\n",
       "<table border=\"1\" class=\"dataframe\">\n",
       "  <thead>\n",
       "    <tr style=\"text-align: right;\">\n",
       "      <th></th>\n",
       "      <th>min</th>\n",
       "      <th>median</th>\n",
       "      <th>max</th>\n",
       "      <th>std</th>\n",
       "    </tr>\n",
       "    <tr>\n",
       "      <th>cpu_family</th>\n",
       "      <th></th>\n",
       "      <th></th>\n",
       "      <th></th>\n",
       "      <th></th>\n",
       "    </tr>\n",
       "  </thead>\n",
       "  <tbody>\n",
       "    <tr>\n",
       "      <th>amd athlon</th>\n",
       "      <td>249.99</td>\n",
       "      <td>449.970</td>\n",
       "      <td>749.00</td>\n",
       "      <td>126.373225</td>\n",
       "    </tr>\n",
       "    <tr>\n",
       "      <th>amd ryzen 3</th>\n",
       "      <td>549.98</td>\n",
       "      <td>699.990</td>\n",
       "      <td>869.99</td>\n",
       "      <td>112.593278</td>\n",
       "    </tr>\n",
       "    <tr>\n",
       "      <th>amd ryzen 5</th>\n",
       "      <td>549.97</td>\n",
       "      <td>999.990</td>\n",
       "      <td>1869.99</td>\n",
       "      <td>437.661834</td>\n",
       "    </tr>\n",
       "    <tr>\n",
       "      <th>amd ryzen 7</th>\n",
       "      <td>899.99</td>\n",
       "      <td>1674.495</td>\n",
       "      <td>3674.00</td>\n",
       "      <td>755.632953</td>\n",
       "    </tr>\n",
       "    <tr>\n",
       "      <th>amd ryzen 9</th>\n",
       "      <td>1499.99</td>\n",
       "      <td>2499.990</td>\n",
       "      <td>3999.99</td>\n",
       "      <td>963.497222</td>\n",
       "    </tr>\n",
       "    <tr>\n",
       "      <th>intel celeron</th>\n",
       "      <td>259.99</td>\n",
       "      <td>397.970</td>\n",
       "      <td>449.99</td>\n",
       "      <td>49.943889</td>\n",
       "    </tr>\n",
       "    <tr>\n",
       "      <th>intel core i3</th>\n",
       "      <td>339.99</td>\n",
       "      <td>754.990</td>\n",
       "      <td>1299.99</td>\n",
       "      <td>187.473948</td>\n",
       "    </tr>\n",
       "    <tr>\n",
       "      <th>intel core i5</th>\n",
       "      <td>355.99</td>\n",
       "      <td>1669.000</td>\n",
       "      <td>3259.00</td>\n",
       "      <td>629.050138</td>\n",
       "    </tr>\n",
       "    <tr>\n",
       "      <th>intel core i7</th>\n",
       "      <td>529.97</td>\n",
       "      <td>2349.990</td>\n",
       "      <td>4719.99</td>\n",
       "      <td>835.166792</td>\n",
       "    </tr>\n",
       "    <tr>\n",
       "      <th>intel core i9</th>\n",
       "      <td>1999.99</td>\n",
       "      <td>4034.990</td>\n",
       "      <td>5899.99</td>\n",
       "      <td>1249.762835</td>\n",
       "    </tr>\n",
       "    <tr>\n",
       "      <th>intel pentium</th>\n",
       "      <td>299.97</td>\n",
       "      <td>579.990</td>\n",
       "      <td>699.99</td>\n",
       "      <td>127.341573</td>\n",
       "    </tr>\n",
       "    <tr>\n",
       "      <th>intel xeon</th>\n",
       "      <td>3889.99</td>\n",
       "      <td>4014.990</td>\n",
       "      <td>4139.99</td>\n",
       "      <td>176.776695</td>\n",
       "    </tr>\n",
       "    <tr>\n",
       "      <th>qualcomm snapdragon 7c</th>\n",
       "      <td>319.99</td>\n",
       "      <td>319.990</td>\n",
       "      <td>319.99</td>\n",
       "      <td>NaN</td>\n",
       "    </tr>\n",
       "  </tbody>\n",
       "</table>\n",
       "</div>"
      ],
      "text/plain": [
       "                            min    median      max          std\n",
       "cpu_family                                                     \n",
       "amd athlon               249.99   449.970   749.00   126.373225\n",
       "amd ryzen 3              549.98   699.990   869.99   112.593278\n",
       "amd ryzen 5              549.97   999.990  1869.99   437.661834\n",
       "amd ryzen 7              899.99  1674.495  3674.00   755.632953\n",
       "amd ryzen 9             1499.99  2499.990  3999.99   963.497222\n",
       "intel celeron            259.99   397.970   449.99    49.943889\n",
       "intel core i3            339.99   754.990  1299.99   187.473948\n",
       "intel core i5            355.99  1669.000  3259.00   629.050138\n",
       "intel core i7            529.97  2349.990  4719.99   835.166792\n",
       "intel core i9           1999.99  4034.990  5899.99  1249.762835\n",
       "intel pentium            299.97   579.990   699.99   127.341573\n",
       "intel xeon              3889.99  4014.990  4139.99   176.776695\n",
       "qualcomm snapdragon 7c   319.99   319.990   319.99          NaN"
      ]
     },
     "execution_count": 71,
     "metadata": {},
     "output_type": "execute_result"
    }
   ],
   "source": [
    "laptops_by_brand = pd.DataFrame(laptops.groupby('cpu_family')['price'].aggregate(['min', np.median, max, np.std]))\n",
    "laptops_by_brand"
   ]
  },
  {
   "cell_type": "code",
   "execution_count": 83,
   "metadata": {
    "scrolled": true
   },
   "outputs": [
    {
     "data": {
      "image/png": "[encoded data removed]",
      "text/plain": [
       "<Figure size 432x288 with 1 Axes>"
      ]
     },
     "metadata": {},
     "output_type": "display_data"
    }
   ],
   "source": [
    "screens = laptops['screen_in'].value_counts()\n",
    "sizes = pd.unique(laptops['screen_in'])\n",
    "plt.pie(screens)#, labels = list(sizes), startangle = 90)\n",
    "plt.show() \n"
   ]
  },
  {
   "cell_type": "code",
   "execution_count": 94,
   "metadata": {
    "scrolled": true
   },
   "outputs": [
    {
     "data": {
      "image/png": "[encoded data removed]",
      "text/plain": [
       "<Figure size 432x288 with 1 Axes>"
      ]
     },
     "metadata": {
      "needs_background": "light"
     },
     "output_type": "display_data"
    }
   ],
   "source": [
    "screens = laptops['screen_in'].value_counts()\n",
    "screens.plot(kind='bar', title='Laptops', color = 'magenta')\n",
    "plt.grid(alpha=0.1)\n",
    "plt.xticks(rotation=45, ha='right')\n",
    "plt.xlabel('Screen size - inches')\n",
    "plt.ylabel('Quantity');"
   ]
  },
  {
   "cell_type": "code",
   "execution_count": 92,
   "metadata": {
    "scrolled": true
   },
   "outputs": [
    {
     "data": {
      "text/plain": [
       "Text(0, 0.5, 'SSD - GB')"
      ]
     },
     "execution_count": 92,
     "metadata": {},
     "output_type": "execute_result"
    },
    {
     "data": {
      "image/png": "[encoded data removed]",
      "text/plain": [
       "<Figure size 432x288 with 1 Axes>"
      ]
     },
     "metadata": {
      "needs_background": "light"
     },
     "output_type": "display_data"
    }
   ],
   "source": [
    "ram = laptops['ram_size']\n",
    "storage = laptops['storage_capacity_ssd_only']\n",
    "plt.scatter(ram, storage, marker='x', c=['m'], alpha=0.25)\n",
    "plt.title('Storage by RAM ')\n",
    "plt.xticks([4,8,16,32,64],rotation=90, ha='center')\n",
    "plt.ylabel('SSD - GB')"
   ]
  },
  {
   "cell_type": "code",
   "execution_count": 95,
   "metadata": {
    "scrolled": true
   },
   "outputs": [
    {
     "data": {
      "text/plain": [
       "1821.5738138686065"
      ]
     },
     "execution_count": 95,
     "metadata": {},
     "output_type": "execute_result"
    }
   ],
   "source": [
    "laptops['price'].mean()"
   ]
  },
  {
   "cell_type": "code",
   "execution_count": 98,
   "metadata": {},
   "outputs": [
    {
     "data": {
      "text/plain": [
       "<bound method Series.median of 0      1489.99\n",
       "1       979.99\n",
       "2       979.99\n",
       "3      3999.99\n",
       "4      2209.99\n",
       "        ...   \n",
       "543    1999.99\n",
       "544    1999.99\n",
       "545    2099.99\n",
       "546    2749.99\n",
       "547    2999.99\n",
       "Name: price, Length: 548, dtype: float64>"
      ]
     },
     "execution_count": 98,
     "metadata": {},
     "output_type": "execute_result"
    }
   ],
   "source": [
    "laptops['price'].median"
   ]
  }
 ],
 "metadata": {
  "kernelspec": {
   "display_name": "Python 3",
   "language": "python",
   "name": "python3"
  },
  "language_info": {
   "codemirror_mode": {
    "name": "ipython",
    "version": 3
   },
   "file_extension": ".py",
   "mimetype": "text/x-python",
   "name": "python",
   "nbconvert_exporter": "python",
   "pygments_lexer": "ipython3",
   "version": "3.8.3"
  }
 },
 "nbformat": 4,
 "nbformat_minor": 4
}
